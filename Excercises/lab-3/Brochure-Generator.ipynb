# 📓 Company Sales Brochure Generator with OpenAI (Jupyter Notebook Version)

---

### 🧠 Objective
This Jupyter Notebook demonstrates how to generate a marketing sales brochure using OpenAI's API. The application:
- Scrapes a company's website
- Extracts relevant content and internal links
- Builds a one-shot prompt tailored for a specific audience
- Streams back a well-formatted marketing brochure using GPT-4

You can create brochures for:
- Prospective Clients
- Investors
- Recruits

---

### 🛠️ Step 1: Import Required Libraries
These libraries help with HTTP requests, HTML parsing, environment variables, and OpenAI API calls.
```python
import os
import openai
import requests
from bs4 import BeautifulSoup
from urllib.parse import urljoin, urlparse
from dotenv import load_dotenv
```

---

### 🔐 Step 2: Load API Key from `.env`
Make sure you have a `.env` file with your OpenAI key like this:
```
OPENAI_API_KEY=your-key-here
```
```python
load_dotenv()
openai.api_key = os.getenv("OPENAI_API_KEY")
```

---

### 🌐 Step 3: Website Scraper Function
This function extracts clean text and collects a few useful internal links from the homepage.
```python
def extract_website_content(url, max_links=3):
    try:
        base_url = f"{urlparse(url).scheme}://{urlparse(url).netloc}"
        response = requests.get(url, timeout=10)
        soup = BeautifulSoup(response.text, "html.parser")

        text = soup.get_text(separator="\n", strip=True)
        useful_links = set()

        for link in soup.find_all("a", href=True):
            href = link['href']
            if href.startswith("/") and len(useful_links) < max_links:
                full_url = urljoin(base_url, href)
                useful_links.add(full_url)

        return text[:5000], list(useful_links)
    except Exception as e:
        return f"Error fetching website: {e}", []
```

---

### 📝 Step 4: Prompt Builder
This function constructs a prompt using the scraped content and links, along with a sample format.
```python
def build_prompt_from_website(company_url, audience_type, website_text, links):
    link_text = "\n".join(f"- {link}" for link in links)

    example = {
        "client": """## Company: CloudNova\n**Audience: Prospective Clients**\n\nCloudNova helps businesses move to the cloud with zero downtime. We offer:\n- Fast, secure cloud migration\n- 24/7 monitoring & support\n- Flexible pricing for all business sizes\n\nJoin 500+ satisfied companies. Let's scale together.""",
        "investor": """## Company: CloudNova\n**Audience: Investors**\n\nCloudNova is a fast-growing cloud tech company with 3x revenue growth year over year. We serve 500+ clients and maintain a 98% retention rate. \n\nWe're currently raising a $5M Series A to expand our product suite and global footprint. Join our mission to redefine cloud performance.""",
        "recruit": """## Company: CloudNova\n**Audience: Recruits**\n\nAt CloudNova, we don’t just build cloud solutions — we build careers. Our culture values learning, impact, and growth. We offer:\n- Competitive salaries\n- Remote-first flexibility\n- Learning stipends and mentorship\n\nBe part of something impactful. Join CloudNova today."""
    }

    prompt = f"""
You are a marketing expert. Create a compelling brochure for the following audience: **{audience_type.capitalize()}**.

Use the real company website content below to understand their services and mission.

------------------------
[Website Content Snippet]
{website_text}
------------------------

Include helpful links at the bottom:
{link_text}

Example format:
{example[audience_type.lower()]}

Now generate one for:
## Company Website: {company_url}
**Audience: {audience_type.capitalize()}**
"""
    return prompt
```

---

### 🤖 Step 5: Generate Brochure Using OpenAI
This function streams the generated response and prints it as it arrives.
```python
def generate_brochure(url, audience_type):
    print(f"🔍 Scraping content from: {url}")
    website_text, links = extract_website_content(url)

    if "Error" in website_text:
        print(website_text)
        return

    prompt = build_prompt_from_website(url, audience_type, website_text, links)

    print(f"\n📄 Generating brochure for audience: {audience_type.capitalize()}\n")

    response = openai.ChatCompletion.create(
        model="gpt-4",
        messages=[{"role": "user", "content": prompt}],
        stream=True
    )

    brochure_output = ""
    for chunk in response:
        if 'choices' in chunk:
            delta = chunk['choices'][0]['delta']
            if 'content' in delta:
                brochure_output += delta['content']
                print(delta['content'], end="")

    print("\n\n✅ Brochure generation complete!")
    return brochure_output
```

---

### ✅ Step 6: Try It Out!
Change the URL and audience as needed. Run the cell below to generate the brochure.
```python
url = "https://example.com"  # Replace with real company URL
audience = "client"  # or "investor" or "recruit"
output = generate_brochure(url, audience)
```

Let me know if you'd like to convert this into a downloadable `.ipynb` file!
