# 📓 Jupyter Notebook Version: Company Brochure Generator

# 📦 Required Libraries
import os
import openai
import requests
from bs4 import BeautifulSoup
from urllib.parse import urljoin, urlparse
from dotenv import load_dotenv

# ✅ Load environment variables
load_dotenv()
openai.api_key = os.getenv("OPENAI_API_KEY")

# 🔍 Extract main website text content and useful internal links
def extract_website_content(url, max_links=3):
    try:
        base_url = f"{urlparse(url).scheme}://{urlparse(url).netloc}"
        response = requests.get(url, timeout=10)
        soup = BeautifulSoup(response.text, "html.parser")

        text = soup.get_text(separator="\n", strip=True)
        useful_links = set()

        for link in soup.find_all("a", href=True):
            href = link['href']
            if href.startswith("/") and len(useful_links) < max_links:
                full_url = urljoin(base_url, href)
                useful_links.add(full_url)

        return text[:5000], list(useful_links)  # limit to first 5000 chars
    except Exception as e:
        return f"Error fetching website: {e}", []

# 🧠 Generate prompt using scraped data and audience type
def build_prompt_from_website(company_url, audience_type, website_text, links):
    link_text = "\n".join(f"- {link}" for link in links)

    example = {
        "client": """## Company: CloudNova\n**Audience: Prospective Clients**\n\nCloudNova helps businesses move to the cloud with zero downtime. We offer:\n- Fast, secure cloud migration\n- 24/7 monitoring & support\n- Flexible pricing for all business sizes\n\nJoin 500+ satisfied companies. Let's scale together.""",
        "investor": """## Company: CloudNova\n**Audience: Investors**\n\nCloudNova is a fast-growing cloud tech company with 3x revenue growth year over year. We serve 500+ clients and maintain a 98% retention rate. \n\nWe're currently raising a $5M Series A to expand our product suite and global footprint. Join our mission to redefine cloud performance.""",
        "recruit": """## Company: CloudNova\n**Audience: Recruits**\n\nAt CloudNova, we don’t just build cloud solutions — we build careers. Our culture values learning, impact, and growth. We offer:\n- Competitive salaries\n- Remote-first flexibility\n- Learning stipends and mentorship\n\nBe part of something impactful. Join CloudNova today."""
    }

    prompt = f"""
You are a marketing expert. Create a compelling brochure for the following audience: **{audience_type.capitalize()}**.

Use the real company website content below to understand their services and mission.

------------------------
[Website Content Snippet]
{website_text}
------------------------

Include helpful links at the bottom:
{link_text}

Example format:
{example[audience_type.lower()]}

Now generate one for:
## Company Website: {company_url}
**Audience: {audience_type.capitalize()}**
"""
    return prompt

# 🚀 Generate Brochure
def generate_brochure(url, audience_type):
    print(f"🔍 Scraping content from: {url}")
    website_text, links = extract_website_content(url)

    if "Error" in website_text:
        print(website_text)
        return

    prompt = build_prompt_from_website(url, audience_type, website_text, links)

    print(f"\n📄 Generating brochure for audience: {audience_type.capitalize()}\n")

    response = openai.ChatCompletion.create(
        model="gpt-4",
        messages=[{"role": "user", "content": prompt}],
        stream=True
    )

    brochure_output = ""
    for chunk in response:
        if 'choices' in chunk:
            delta = chunk['choices'][0]['delta']
            if 'content' in delta:
                brochure_output += delta['content']
                print(delta['content'], end="")

    print("\n\n✅ Brochure generation complete!")
    return brochure_output

# ✅ Example usage in a Jupyter cell:
# url = "https://example.com"
# audience = "client"
# output = generate_brochure(url, audience)
generate_brochure("https://example.com", "client")
